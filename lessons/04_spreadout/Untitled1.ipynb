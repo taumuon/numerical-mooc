{
 "metadata": {
  "name": "",
  "signature": "sha256:9a28ad652230f74e95238e3acde62b47a39df2d5c7ed0253a42ceca31e7fa9b8"
 },
 "nbformat": 3,
 "nbformat_minor": 0,
 "worksheets": [
  {
   "cells": [
    {
     "cell_type": "code",
     "collapsed": false,
     "input": [
      "%%html\n",
      "<script src=\"http://ariutta.github.io/svg-pan-zoom/dist/svg-pan-zoom.min.js\"></script>\n",
      "\n",
      "<object id=\"demo-tiger\" type=\"image/svg+xml\" data=\"./figures/2d_stencil.svg\" style=\"width: 600px; height: 800px; border:1px solid black; \">Your browser does not support SVG</object>\n",
      "\n",
      "<script>\n",
      "window.onload = function() {\n",
      "        svgPanZoom('#demo-tiger', {\n",
      "          zoomEnabled: true,\n",
      "          controlIconsEnabled: true\n",
      "        });\n",
      "      };\n",
      "</script>"
     ],
     "language": "python",
     "metadata": {},
     "outputs": [
      {
       "html": [
        "<script src=\"http://ariutta.github.io/svg-pan-zoom/dist/svg-pan-zoom.min.js\"></script>\n",
        "\n",
        "<object id=\"demo-tiger\" type=\"image/svg+xml\" data=\"./figures/2d_stencil.svg\" style=\"width: 600px; height: 800px; border:1px solid black; \">Your browser does not support SVG</object>\n",
        "\n",
        "<script>\n",
        "window.onload = function() {\n",
        "        svgPanZoom('#demo-tiger', {\n",
        "          zoomEnabled: true,\n",
        "          controlIconsEnabled: true\n",
        "        });\n",
        "      };\n",
        "</script>"
       ],
       "metadata": {},
       "output_type": "display_data",
       "text": [
        "<IPython.core.display.HTML at 0x7f9ba1c94c50>"
       ]
      }
     ],
     "prompt_number": 10
    },
    {
     "cell_type": "code",
     "collapsed": false,
     "input": [
      "%%javascript\n"
     ],
     "language": "python",
     "metadata": {},
     "outputs": [
      {
       "javascript": [
        "window.onload = function() {\n",
        "        svgPanZoom('#demo-tiger', {\n",
        "          zoomEnabled: true,\n",
        "          controlIconsEnabled: true\n",
        "        });\n",
        "      };"
       ],
       "metadata": {},
       "output_type": "display_data",
       "text": [
        "<IPython.core.display.Javascript at 0x7f9ba1c94150>"
       ]
      }
     ],
     "prompt_number": 5
    },
    {
     "cell_type": "code",
     "collapsed": false,
     "input": [],
     "language": "python",
     "metadata": {},
     "outputs": []
    },
    {
     "cell_type": "code",
     "collapsed": false,
     "input": [],
     "language": "python",
     "metadata": {},
     "outputs": []
    },
    {
     "cell_type": "code",
     "collapsed": false,
     "input": [
      "%%javascript\n",
      "\n",
      "var svgContainer = d3.select(\"#viz\").append(\"svg\").attr({\"width\":500,\"height\":500});\n",
      "\n",
      "svgContainer.append(\"rect\").attr({\n",
      "        class:\"this is just a test rect\",\n",
      "        width:200,\n",
      "        height:100,\n",
      "});\n",
      "        \n",
      "\n",
      "d3.xml(\"./figures/2d_stencil.svg\", function(xml) {\n",
      "        var svgNode = documentFragment.getElementsByTagName(\"svg\")[0];\n",
      "    \n",
      "        svgContainer.appendChild(svgNode);\n",
      "});\n",
      "\n"
     ],
     "language": "python",
     "metadata": {},
     "outputs": [
      {
       "javascript": [
        "\n",
        "var svgContainer = d3.select(\"#viz\").append(\"svg\").attr({\"width\":500,\"height\":500});\n",
        "\n",
        "svgContainer.append(\"rect\").attr({\n",
        "        class:\"this is just a test rect\",\n",
        "        width:200,\n",
        "        height:100,\n",
        "});\n",
        "        \n",
        "\n",
        "d3.xml(\"./figures/2d_stencil.svg\", function(xml) {\n",
        "        var svgNode = documentFragment.getElementsByTagName(\"svg\")[0];\n",
        "    \n",
        "        svgContainer.appendChild(svgNode);\n",
        "});\n"
       ],
       "metadata": {},
       "output_type": "display_data",
       "text": [
        "<IPython.core.display.Javascript at 0x7ff85dd3ebd0>"
       ]
      }
     ],
     "prompt_number": 10
    },
    {
     "cell_type": "code",
     "collapsed": false,
     "input": [],
     "language": "python",
     "metadata": {},
     "outputs": []
    },
    {
     "cell_type": "code",
     "collapsed": false,
     "input": [
      "%%javascript\n",
      "\n",
      "var svgContainer = d3.select(\"#viz\").append(\"svg\");\n",
      "svgContainer.attr(\"width\", 500).attr(\"height\", 500);\n",
      "\n",
      "var matrix = svgContainer.append(\"./figures/2d_stencil.svg\")\n",
      "matrix.on()\n",
      "//d3.selectAll(\"#viz\").remove();"
     ],
     "language": "python",
     "metadata": {},
     "outputs": [
      {
       "javascript": [
        "\n",
        "var svgContainer = d3.select(\"#viz\").append(\"svg\");\n",
        "svgContainer.attr(\"width\", 500).attr(\"height\", 500);\n",
        "\n",
        "var matrix = svgContainer.append(\"./figures/2d_stencil.svg\")\n",
        "matrix.on()\n",
        "//d3.selectAll(\"#viz\").remove();"
       ],
       "metadata": {},
       "output_type": "display_data",
       "text": [
        "<IPython.core.display.Javascript at 0x7ff519c1a210>"
       ]
      }
     ],
     "prompt_number": 26
    },
    {
     "cell_type": "code",
     "collapsed": false,
     "input": [
      "%%javascript\n",
      "\n",
      "var w = 500;\n",
      "var h = 500;\n",
      "\n",
      "//var svg = d3.select(\"#viz\")\n",
      "//    .append(\"svg\")\n",
      "//    .attr(\"width\", w)\n",
      "//    .attr(\"height\", h);\n",
      "\n",
      "d3.xml(\"./figures/2d_stencil.svg\", \"image/svg+xml\", function(xml) {\n",
      "    var importedNode = document.importNode(xml.documentElement, true);\n",
      "    d3.select(\"#viz\").node().appendChild(importedNode);\n",
      "    \n",
      "});\n",
      "\n",
      "d3.select(\"#viz\")\n",
      "        .call(d3.behavior.zoom().on(\"zoom\",zoom));\n",
      "\n",
      "function zoom() {\n",
      "  d3.select(\"#viz\").attr(\"transform\", \"translate(\" + d3.event.translate + \")scale(\" + d3.event.scale + \")\");\n",
      "}"
     ],
     "language": "python",
     "metadata": {},
     "outputs": [
      {
       "javascript": [
        "\n",
        "var w = 500;\n",
        "var h = 500;\n",
        "\n",
        "//var svg = d3.select(\"#viz\")\n",
        "//    .append(\"svg\")\n",
        "//    .attr(\"width\", w)\n",
        "//    .attr(\"height\", h);\n",
        "\n",
        "d3.xml(\"./figures/2d_stencil.svg\", \"image/svg+xml\", function(xml) {\n",
        "    var importedNode = document.importNode(xml.documentElement, true);\n",
        "    d3.select(\"#viz\").node().appendChild(importedNode);\n",
        "    \n",
        "});\n",
        "\n",
        "d3.select(\"#viz\")\n",
        "        .call(d3.behavior.zoom().on(\"zoom\",zoom));\n",
        "\n",
        "function zoom() {\n",
        "  d3.select(\"#viz\").attr(\"transform\", \"translate(\" + d3.event.translate + \")scale(\" + d3.event.scale + \")\");\n",
        "}"
       ],
       "metadata": {},
       "output_type": "display_data",
       "text": [
        "<IPython.core.display.Javascript at 0x7ff519f68990>"
       ]
      }
     ],
     "prompt_number": 17
    },
    {
     "cell_type": "code",
     "collapsed": false,
     "input": [],
     "language": "python",
     "metadata": {},
     "outputs": []
    },
    {
     "cell_type": "code",
     "collapsed": false,
     "input": [],
     "language": "python",
     "metadata": {},
     "outputs": []
    },
    {
     "cell_type": "code",
     "collapsed": false,
     "input": [],
     "language": "python",
     "metadata": {},
     "outputs": []
    },
    {
     "cell_type": "code",
     "collapsed": false,
     "input": [],
     "language": "python",
     "metadata": {},
     "outputs": []
    },
    {
     "cell_type": "code",
     "collapsed": false,
     "input": [
      "%%javascript\n",
      "\n",
      "d3.xml(\"./figures/2d_stencil.svg\", \"image/svg+xml\", function(xml) {\n",
      "    var svg = document.importNode(xml.documentElement, true);\n",
      "    d3.select(\"#viz\").node().appendChild(svg); \n",
      "    svg.call(d3.behavior.zoom().scaleExtent([1, 8]).on(\"zoom\", zoom));\n",
      "    });\n",
      "var width = 200,\n",
      "    height = 200;\n",
      "\n",
      "//var svg = d3.select(\"#viz\").append(\"svg\").call(d3.behavior.zoom().scaleExtent([1, 8]).on(\"zoom\", zoom))\n",
      "//var svg = d3.select(\"#viz\").call(d3.behavior.zoom().scaleExtent([1, 8]).on(\"zoom\", zoom))\n",
      "//    .attr(\"width\", width)\n",
      " //   .attr(\"height\", height)\n",
      " // .append(\"g\")\n",
      "    \n",
      "  //.append(\"g\");\n",
      "\n",
      "function zoom() {\n",
      "  svg.attr(\"transform\", \"translate(\" + d3.event.translate + \")scale(\" + d3.event.scale + \")\");\n",
      "}\n",
      "/*\n",
      "// create the zoom listener\n",
      "var zoomListener = d3.behavior.zoom()\n",
      "  .scaleExtent([0.1, 3])\n",
      "  .on(\"zoom\", zoomHandler);\n",
      "\n",
      "// function for handling zoom event\n",
      "function zoomHandler() {\n",
      "  //vis.attr(\"transform\", \"translate(\" + d3.event.translate + \")scale(\" + d3.event.scale + \")\");\n",
      "    d3.select(\"#viz\").attr(\"transform\", \"translate(\" + d3.event.translate + \")scale(\" + d3.event.scale + \")\");\n",
      "}\n",
      "\n",
      "// create the svg\n",
      "/*rootSvg = d3.xml(\"https://rawgit.com/VengadoraVG/moving-to-gnulinux/master/img/tux.svg\")*/\n",
      "//d3.xml(\"./figures/2d_stencil.svg\", \"image/svg+xml\", function(xml) {\n",
      "//    var importedNode = document.importNode(xml.documentElement, true);\n",
      "//    d3.select(\"#viz\").node().appendChild(importedNode);  });\n",
      "  /*d3.select(\"#tree-body\").append(\"svg:svg\");\n",
      "/*\n",
      "  creating your svg image here\n",
      "*/\n",
      "\n",
      "// apply the zoom behavior to the svg image\n",
      "//zoomListener(d3.select(\"#viz\"));\n"
     ],
     "language": "python",
     "metadata": {},
     "outputs": [
      {
       "javascript": [
        "\n",
        "d3.xml(\"./figures/2d_stencil.svg\", \"image/svg+xml\", function(xml) {\n",
        "    var svg = document.importNode(xml.documentElement, true);\n",
        "    d3.select(\"#viz\").node().appendChild(svg); \n",
        "    svg.call(d3.behavior.zoom().scaleExtent([1, 8]).on(\"zoom\", zoom));\n",
        "    });\n",
        "var width = 200,\n",
        "    height = 200;\n",
        "\n",
        "//var svg = d3.select(\"#viz\").append(\"svg\").call(d3.behavior.zoom().scaleExtent([1, 8]).on(\"zoom\", zoom))\n",
        "//var svg = d3.select(\"#viz\").call(d3.behavior.zoom().scaleExtent([1, 8]).on(\"zoom\", zoom))\n",
        "//    .attr(\"width\", width)\n",
        " //   .attr(\"height\", height)\n",
        " // .append(\"g\")\n",
        "    \n",
        "  //.append(\"g\");\n",
        "\n",
        "function zoom() {\n",
        "  svg.attr(\"transform\", \"translate(\" + d3.event.translate + \")scale(\" + d3.event.scale + \")\");\n",
        "}\n",
        "/*\n",
        "// create the zoom listener\n",
        "var zoomListener = d3.behavior.zoom()\n",
        "  .scaleExtent([0.1, 3])\n",
        "  .on(\"zoom\", zoomHandler);\n",
        "\n",
        "// function for handling zoom event\n",
        "function zoomHandler() {\n",
        "  //vis.attr(\"transform\", \"translate(\" + d3.event.translate + \")scale(\" + d3.event.scale + \")\");\n",
        "    d3.select(\"#viz\").attr(\"transform\", \"translate(\" + d3.event.translate + \")scale(\" + d3.event.scale + \")\");\n",
        "}\n",
        "\n",
        "// create the svg\n",
        "/*rootSvg = d3.xml(\"https://rawgit.com/VengadoraVG/moving-to-gnulinux/master/img/tux.svg\")*/\n",
        "//d3.xml(\"./figures/2d_stencil.svg\", \"image/svg+xml\", function(xml) {\n",
        "//    var importedNode = document.importNode(xml.documentElement, true);\n",
        "//    d3.select(\"#viz\").node().appendChild(importedNode);  });\n",
        "  /*d3.select(\"#tree-body\").append(\"svg:svg\");\n",
        "/*\n",
        "  creating your svg image here\n",
        "*/\n",
        "\n",
        "// apply the zoom behavior to the svg image\n",
        "//zoomListener(d3.select(\"#viz\"));"
       ],
       "metadata": {},
       "output_type": "display_data",
       "text": [
        "<IPython.core.display.Javascript at 0x7ff519f68b10>"
       ]
      }
     ],
     "prompt_number": 18
    },
    {
     "cell_type": "code",
     "collapsed": false,
     "input": [],
     "language": "python",
     "metadata": {},
     "outputs": []
    },
    {
     "cell_type": "code",
     "collapsed": false,
     "input": [],
     "language": "python",
     "metadata": {},
     "outputs": []
    },
    {
     "cell_type": "code",
     "collapsed": false,
     "input": [],
     "language": "python",
     "metadata": {},
     "outputs": []
    },
    {
     "cell_type": "code",
     "collapsed": false,
     "input": [],
     "language": "python",
     "metadata": {},
     "outputs": []
    },
    {
     "cell_type": "code",
     "collapsed": false,
     "input": [],
     "language": "python",
     "metadata": {},
     "outputs": []
    },
    {
     "cell_type": "code",
     "collapsed": false,
     "input": [
      "from IPython.core.display import HTML\n",
      "css_file = '../../styles/numericalmoocstyle.css'\n",
      "HTML(open(css_file, \"r\").read())"
     ],
     "language": "python",
     "metadata": {},
     "outputs": [
      {
       "html": [
        "<link href='http://fonts.googleapis.com/css?family=Alegreya+Sans:100,300,400,500,700,800,900,100italic,300italic,400italic,500italic,700italic,800italic,900italic' rel='stylesheet' type='text/css'>\n",
        "<link href='http://fonts.googleapis.com/css?family=Arvo:400,700,400italic' rel='stylesheet' type='text/css'>\n",
        "<link href='http://fonts.googleapis.com/css?family=PT+Mono' rel='stylesheet' type='text/css'>\n",
        "<link href='http://fonts.googleapis.com/css?family=Shadows+Into+Light' rel='stylesheet' type='text/css'>\n",
        "<link href='http://fonts.googleapis.com/css?family=Nixie+One' rel='stylesheet' type='text/css'>\n",
        "<style>\n",
        "\n",
        "@font-face {\n",
        "    font-family: \"Computer Modern\";\n",
        "    src: url('http://mirrors.ctan.org/fonts/cm-unicode/fonts/otf/cmunss.otf');\n",
        "}\n",
        "\n",
        "#notebook_panel { /* main background */\n",
        "    background: rgb(245,245,245);\n",
        "}\n",
        "\n",
        "div.cell { /* set cell width */\n",
        "    width: 750px;\n",
        "}\n",
        "\n",
        "div #notebook { /* centre the content */\n",
        "    background: #fff; /* white background for content */\n",
        "    width: 1000px;\n",
        "    margin: auto;\n",
        "    padding-left: 0em;\n",
        "}\n",
        "\n",
        "#notebook li { /* More space between bullet points */\n",
        "margin-top:0.8em;\n",
        "}\n",
        "\n",
        "/* draw border around running cells */\n",
        "div.cell.border-box-sizing.code_cell.running { \n",
        "    border: 1px solid #111;\n",
        "}\n",
        "\n",
        "/* Put a solid color box around each cell and its output, visually linking them*/\n",
        "div.cell.code_cell {\n",
        "    background-color: rgb(256,256,256); \n",
        "    border-radius: 0px; \n",
        "    padding: 0.5em;\n",
        "    margin-left:1em;\n",
        "    margin-top: 1em;\n",
        "}\n",
        "\n",
        "div.text_cell_render{\n",
        "    font-family: 'Alegreya Sans' sans-serif;\n",
        "    line-height: 140%;\n",
        "    font-size: 125%;\n",
        "    font-weight: 400;\n",
        "    width:600px;\n",
        "    margin-left:auto;\n",
        "    margin-right:auto;\n",
        "}\n",
        "\n",
        "\n",
        "/* Formatting for header cells */\n",
        ".text_cell_render h1 {\n",
        "    font-family: 'Nixie One', serif;\n",
        "    font-style:regular;\n",
        "    font-weight: 400;    \n",
        "    font-size: 45pt;\n",
        "    line-height: 100%;\n",
        "    color: rgb(0,51,102);\n",
        "    margin-bottom: 0.5em;\n",
        "    margin-top: 0.5em;\n",
        "    display: block;\n",
        "}\t\n",
        ".text_cell_render h2 {\n",
        "    font-family: 'Nixie One', serif;\n",
        "    font-weight: 400;\n",
        "    font-size: 30pt;\n",
        "    line-height: 100%;\n",
        "    color: rgb(0,51,102);\n",
        "    margin-bottom: 0.1em;\n",
        "    margin-top: 0.3em;\n",
        "    display: block;\n",
        "}\t\n",
        "\n",
        ".text_cell_render h3 {\n",
        "    font-family: 'Nixie One', serif;\n",
        "    margin-top:16px;\n",
        "\tfont-size: 22pt;\n",
        "    font-weight: 600;\n",
        "    margin-bottom: 3px;\n",
        "    font-style: regular;\n",
        "    color: rgb(102,102,0);\n",
        "}\n",
        "\n",
        ".text_cell_render h4 {    /*Use this for captions*/\n",
        "    font-family: 'Nixie One', serif;\n",
        "    font-size: 14pt;\n",
        "    text-align: center;\n",
        "    margin-top: 0em;\n",
        "    margin-bottom: 2em;\n",
        "    font-style: regular;\n",
        "}\n",
        "\n",
        ".text_cell_render h5 {  /*Use this for small titles*/\n",
        "    font-family: 'Nixie One', sans-serif;\n",
        "    font-weight: 400;\n",
        "    font-size: 16pt;\n",
        "    color: rgb(163,0,0);\n",
        "    font-style: italic;\n",
        "    margin-bottom: .1em;\n",
        "    margin-top: 0.8em;\n",
        "    display: block;\n",
        "}\n",
        "\n",
        ".text_cell_render h6 { /*use this for copyright note*/\n",
        "    font-family: 'PT Mono', sans-serif;\n",
        "    font-weight: 300;\n",
        "    font-size: 9pt;\n",
        "    line-height: 100%;\n",
        "    color: grey;\n",
        "    margin-bottom: 1px;\n",
        "    margin-top: 1px;\n",
        "}\n",
        "\n",
        ".CodeMirror{\n",
        "        font-family: \"PT Mono\";\n",
        "        font-size: 90%;\n",
        "}\n",
        "\n",
        "</style>\n",
        "<script>\n",
        "    MathJax.Hub.Config({\n",
        "                        TeX: {\n",
        "                           extensions: [\"AMSmath.js\"],\n",
        "                           equationNumbers: { autoNumber: \"AMS\", useLabelIds: true}\n",
        "                           },\n",
        "                tex2jax: {\n",
        "                    inlineMath: [ ['$','$'], [\"\\\\(\",\"\\\\)\"] ],\n",
        "                    displayMath: [ ['$$','$$'], [\"\\\\[\",\"\\\\]\"] ]\n",
        "                },\n",
        "                displayAlign: 'center', // Change this to 'center' to center equations.\n",
        "                \"HTML-CSS\": {\n",
        "                    styles: {'.MathJax_Display': {\"margin\": 4}}\n",
        "                }\n",
        "        });\n",
        "</script>\n"
       ],
       "metadata": {},
       "output_type": "pyout",
       "prompt_number": 1,
       "text": [
        "<IPython.core.display.HTML at 0x7f9ba1c94cd0>"
       ]
      }
     ],
     "prompt_number": 1
    },
    {
     "cell_type": "code",
     "collapsed": false,
     "input": [
      "HTML('<script src=\"http://ariutta.github.io/svg-pan-zoom/dist/svg-pan-zoom.min.js\"></script>')"
     ],
     "language": "python",
     "metadata": {},
     "outputs": [
      {
       "html": [
        "<script src=\"http://ariutta.github.io/svg-pan-zoom/dist/svg-pan-zoom.min.js\"></script>"
       ],
       "metadata": {},
       "output_type": "pyout",
       "prompt_number": 2,
       "text": [
        "<IPython.core.display.HTML at 0x7f9ba1c94110>"
       ]
      }
     ],
     "prompt_number": 2
    },
    {
     "cell_type": "code",
     "collapsed": false,
     "input": [],
     "language": "python",
     "metadata": {},
     "outputs": []
    }
   ],
   "metadata": {}
  }
 ]
}